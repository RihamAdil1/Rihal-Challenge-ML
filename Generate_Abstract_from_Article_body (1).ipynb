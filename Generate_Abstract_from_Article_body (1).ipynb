{
  "nbformat": 4,
  "nbformat_minor": 0,
  "metadata": {
    "colab": {
      "provenance": [],
      "gpuType": "T4"
    },
    "kernelspec": {
      "name": "python3",
      "display_name": "Python 3"
    },
    "language_info": {
      "name": "python"
    },
    "accelerator": "GPU"
  },
  "cells": [
    {
      "cell_type": "code",
      "source": [
        "import numpy as np\n",
        "import tensorflow as tf\n",
        "from tensorflow.keras.preprocessing.text import Tokenizer\n",
        "from tensorflow.keras.preprocessing.sequence import pad_sequences"
      ],
      "metadata": {
        "id": "o8AD1FATCIq5"
      },
      "execution_count": null,
      "outputs": []
    },
    {
      "cell_type": "code",
      "source": [
        "import json"
      ],
      "metadata": {
        "id": "R2aeEQMyI_S7"
      },
      "execution_count": null,
      "outputs": []
    },
    {
      "cell_type": "code",
      "execution_count": null,
      "metadata": {
        "colab": {
          "base_uri": "https://localhost:8080/"
        },
        "id": "Bq42J4w6CIuS",
        "outputId": "b012859c-cea8-48c6-c536-4637b549ad03"
      },
      "outputs": [
        {
          "output_type": "stream",
          "name": "stdout",
          "text": [
            "Article 1: {'section': 'Theater', 'headline': \"Before 'Moonlight' and 'The Walking Dead,' a Friendship Born in the Classroom\", 'article_url': 'https://www.nytimes.com/2017/02/21/theater/danai-gurira-andre-holland-walking-dead.html', 'article': 'Danai Gurira and Andre Holland in a theater at New York University, where they met in the Tisch Graduate Acting Program.\\n\\nBehind every successful person are relationships that helped forge a path. But the stories of these friendships, collaborations, alliances, romances or rivalries often are lost in the glow of achievement. In this new feature, we explore a personal connection that made a difference in the lives of two artists. Andre Holland never thought much about writing his own monologues when he attended the Tisch graduate acting program at New York University. But one day, early in his first semester in 2003, he watched another African-American student, Danai Gurira, forgo the usual speeches by white characters and perform her own material instead. Her monologue, about the struggles of black women, had an immediacy and ferocity that led to a bond between them -- as friends, actors and, eventually, writing partners. Ms. Gurira was working on what would become \"In the Continuum,\" the Obie Award-winning play that she co-wrote and starred in Off Broadway. Ms. Gurira would go on to write last year\\'s Tony-nominated play \"Eclipsed\" and act on Broadway and television, where she is best known as Michonne on \"The Walking Dead.\" Mr. Holland is starring in August Wilson\\'s \"Jitney\" on Broadway and as the diner cook Kevin in the film \"Moonlight,\" which is nominated for best picture in this Sunday\\'s Academy Awards.\\n\\nANDRE HOLLAND After seeing that monologue at N.Y.U., I basically followed Danai around for the whole semester. DANAI GURIRA It was very obvious. HOLLAND I was a first-year student. You were a big-deal third-year. GURIRA [laughter] Oh, come on. Most of us were up to our eyeballs in student loans. We were all just trying to get by. HOLLAND All the first-years had to work on the third-years\\' shows. They were doing an August Wilson play, actually -- \"King Hedley II.\" I was working backstage, and I was responsible for firing a backup gun in case the one onstage didn\\'t go off. You fired the gun, right, Danai? HOLLAND One night her gun didn\\'t go off. It took me a second to register what happened. Danai acted it very well.\\n\\nGURIRA It\\'s the climax of the play. I had this split-second where I thought, \"Oh, let me try again.\" And the guy who was supposed to be shot -- his face was like: \"Was I shot? Was I not shot?\" Then Dre fired the backup and saved us. GURIRA We were all very keen to see Dre get a show where he was the clear lead. But it takes awhile. HOLLAND In my third year I got Tartuffe. GURIRA The character is a scoundrel, and we all looked at Andre as this sweet, kind guy. I found myself kind of rooting for Tartuffe because Andre is so likable.\\n\\nHOLLAND N.Y.U. was a magical place for me. I was living out in West New York, N.J., in a $500-a-month bedroom and taking the bus in at 6:30 a.m. But then you get to the classroom and it was just constant creativity, working from 9 a.m. to midnight. GURIRA I still go to Tisch to block out a room when I need to work something out quickly. I did that with all my plays. It\\'s about being back in those very humble classrooms. The place kept Dre and I humble. HOLLAND A few years after, we ended up making our Broadway debuts together, in another August Wilson play, \"Joe Turner\\'s Come and Gone.\"\\n\\nGURIRA Our characters never met onstage. But that\\'s when we became good, good friends offstage. HOLLAND It was a highly pressurized situation. Bart Sher was directing. There were a lot of feelings about us having a white director on a Wilson classic like \"Joe Turner.\" And the ending of the play -- well, we as a cast were struggling to find the right ending. Danai and I talked about it a lot outside of rehearsals. \"What are we doing? How do we figure this out?\" I was struggling with my character, Jeremy -- there were things that the play was asking me to do, and other things that the director was asking me to do, and those two things don\\'t always line up. I trusted her implicitly. \"Does this make sense?\" I\\'d ask her. \"Is this clear?\"\\n\\nGURIRA My character, Martha Pentecost, came onstage at the very end of the play. She is facing the husband she left years earlier back in the South. It was tough to figure out how to play the ending. We were taught in our N.Y.U. training that collaboration is not cooperation. You need to leave your ego outside; it\\'s about finding the best work. That was a place that both Andre and I came from. August Wilson is such a deep, spiritual writer. You just can\\'t come at it intellectually; you had to come at it deep. I leaned a lot on Dre. I got to know the poeticness of Dre\\'s Southern background. I needed that for Martha. HOLLAND Mostly, I just sat there listening. Danai had most of the answers about what she needed to do with the character. GURIRA It wasn\\'t that Bart wanted one thing and I wanted another. A lot of it was time pressure -- it was a three-hour play and a huge amount to rehearse. HOLLAND A lot of the time it was just giving each other space to express things that you can\\'t express easily in front of the director and the rehearsal room. We talked about the church a lot, religion a lot. GURIRA Two years later we did \"Measure for Measure\" in Central Park. We didn\\'t know each other was auditioning. No idea.\\n\\nGURIRA Ridiculous! I literally had no idea you had been cast when I came in. But what was great was that you made it easier for me to find that thing that my character needed. My goal for my character, Isabella, was that she wasn\\'t going to be someone that the audience could judge easily. Isabella has to decide whether to save her brother, who is in prison. She doesn\\'t agree with things he has done, but Dre, as Claudio, made me want to save him. HOLLAND I talk to Danai more than anyone in terms of work. All these plays I\\'ve done -- Danai came to see \"Jitney\" recently, and she is the only person I talk to about the work. She had a couple good ideas. I\\'m working hard to put them in. I\\'ll keep the specifics to myself. [laughter] GURIRA A lot of it is about decision-making in our careers. We remind each other of who we are, what we want, where we want to go. We can get caught up in the moment of the thing you are working on. We remind each other of what we said last year, or five years ago, about what we wanted in life. HOLLAND We\\'re working on a screenplay now together. It\\'s based on the book \"A Native of Nowhere,\" and it\\'s a fascinating story about one man\\'s life. It\\'s early going, but I\\'ve always been interested in writing. I have stacks of notebooks that I\\'ve filled with stories.', 'abstract': 'André Holland first saw Danai Gurira at New York University, performing a monologue she wrote. Since then, they have acted and written together.', 'article_id': '952a8b15-63f6-5e41-8f23-82dfbb33d1fa', 'image': 'https://static01.nyt.com/images/2017/02/22/arts/22WHENWEMET1/22WHENWEMET1-facebookJumbo-v2.jpg?year=2017&h=550&w=1050&s=c23807ec313c0fc286e59ef047d8ec2ffb842fd4368b350e0be6c4895ec1a0ba&k=ZQJBKqZ0VN', 'caption': 'Danai Gurira and André Holland in a theater at New York University, where they met in the Tisch Graduate Acting Program.', 'image_id': '952a8b15-63f6-5e41-8f23-82dfbb33d1fa'}\n",
            "Article 2: {'section': 'Television', 'headline': \"What's on TV Wednesday: 'Crip Camp' and 'Dark Phoenix'\", 'article_url': 'https://www.nytimes.com/2020/03/25/arts/television/whats-on-tv-wednesday-crip-camp-and-dark-phoenix.html', 'article': 'CRIP CAMP: A DISABILITY REVOLUTION (2020) Stream on Netflix. This documentary, the latest offering from Barack Obama and Michelle Obama\\'s production company, draws a direct line between a Catskills summer camp and the American disability rights movement of the 1970s. Directed by Jim LeBrecht and Nicole Newnham, the film begins by focusing on Camp Jened, which was founded in the early 1950s and served as a community for campers with disabilities. But it eventually shifts focus to look at the adult lives of some of the camp\\'s alumni, several of whom became prominent activists. In his review for The New York Times, Ben Kenigsberg wrote that the film \"unfolds from a perspective of lived experience.\" Newnham and LeBrecht, he added, \"deftly juggle a large cast of characters past and present, accomplishing the not-so-easy task of making all the personalities distinct.\"\\n\\nDARK PHOENIX (2019) 9 p.m. on HBO. In an interview with The Times last year, the actress Sophie Turner discussed the moment when Simon Kinberg, the writer and director of \"Dark Phoenix,\" made clear how much the movie would rely on Turner\\'s performance. \"I just [expletive] my pants right there and then,\" Turner said. But she made it through. This most recent \"X-Men\" movie casts Turner, a star best known for \"Game of Thrones,\" as Jean Grey, a young mutant whose abnormally potent powers threaten to get the better of her. Michael Fassbender and James McAvoy reprise their roles as Magneto and Professor X, alongside Jessica Chastain as an alien modeled partly on Tilda Swinton. For the most part, Manohla Dargis wrote in her review for The Times, Kinberg \"just moves characters from point A to B, pausing for face-to-face heart to hearts before the next blowout.\" But, she added, \"the mayhem is generally coherent and executed with clean, crisp special effects, even if Kinberg settles for slo-mo cliches.\"\\n\\nBLACKHAT (2015) 5:20 p.m. on FXM. Cybercrime has incendiary results in \"Blackhat,\" a thriller directed by Michael Mann. The story begins with an explosion at a Hong Kong nuclear facility. Enter Chris Hemsworth and Tang Wei, who play unlikely heroes tasked with tracking down the mysterious hacker responsible for the attack. The result is \"by turns brutal and sentimental, lovely and lurid, as serious as the grave and blissfully preposterous,\" Manohla Dargis wrote in her review for The Times. She called the film \"a spectacular work of unhinged moviemaking.\"\\n\\nEARTH\\'S SACRED WONDERS 10 p.m. on PBS (check local listings). A team of gardeners takes on a dangerous plant-trimming job on the towers of Angkor Wat, the sprawling Cambodian temple complex, in the first episode of this new series. The show profiles people who have been drawn to religious landmarks around the world. Also featured in the first episode: A paramedic in Jerusalem who helps those who are fasting in during Ramadan, and a monk-in-training at the Shaolin Temple in China.', 'abstract': 'The documentary \"Crip Camp: A Disability Revolution\" debuts on Netflix. And \"Dark Phoenix\" airs on HBO.', 'article_id': '67b1b62f-43ea-59d0-bf93-a94c11845820', 'image': 'https://static01.nyt.com/images/2020/03/25/arts/25tvcol-cripcamp/25tvcol-cripcamp-facebookJumbo.jpg?year=2020&h=550&w=1050&s=a6376fe66b1f8a7b3a0b391c01b7ff04f19d351974b6c9a2f7b72ea89187a132&k=ZQJBKqZ0VN', 'caption': 'Judy Heumann in &ldquo;Crip Camp: A Disability Revolution.&rdquo;', 'image_id': '67b1b62f-43ea-59d0-bf93-a94c11845820'}\n",
            "Article 3: {'section': 'Sports', 'headline': 'Rays Stick to Their Plan and Reach a 2nd World Series', 'article_url': 'https://www.nytimes.com/2020/10/17/sports/baseball/rays-beat-astros-game-7.html', 'article': 'The Tampa Bay Rays told Charlie Morton it would happen. When they chased him as a free agent before last season, their front office did not present to him this precise scenario -- an unprecedented path to the World Series, with him leading the way -- but they shared their methodology. Part of Morton recoiled at the message. \"\\'Hey, we don\\'t need you to go seven, eight innings -- we\\'re built so that you give us five or six good ones and we\\'ll take care of the rest,\\'\" Morton, 36, said earlier this month, recalling the Rays\\' pitch to him. \"I don\\'t know how I feel about that; coming up, you want to go seven, eight. You want that complete game.\" Morton\\'s role models as a young major leaguer were other tall right-handers who craved big moments and burned to work deep into games: Roy Halladay, Chris Carpenter, Adam Wainwright and A.J. Burnett. His generation of pitchers, Morton said, is probably the last to be raised with that mentality. \"And you just see this evolution in the game -- teams would rather have you go out and strike a bunch of guys out over five or six innings,\" he added. \"I don\\'t know, it\\'s kind of sad to see -- but the guys that can consistently go out and give you six, seven, eight innings, two to four runs, and throw 200 innings a year, I think that\\'s gone the way of the dodo bird.\"\\n\\nNowhere was the evolution of the baseball kingdom more obvious than in Game 7 of the American League Championship Series on Saturday night in San Diego. The Rays stuck to their principles at the pivotal moment, and the reward was a 4-2 victory over the Houston Astros that sent them to their second World Series. In their first, in 2008, they lost to the Philadelphia Phillies. The Rays won the first three games of this A.L.C.S., then lost three in a row. Only once before had a team done that in a best-of-seven series, and that team -- the 2004 Yankees -- was beaten soundly in Game 7 by the Boston Red Sox. The Rays, then, had no precedent for recovering from such a tumble. \"I don\\'t know if I went to bed,\" Manager Kevin Cash said when asked about his torment after losing Game 6 on Friday. \"It was tough, there\\'s no doubt. A lot of anxiety. Believe me, we\\'ve all watched \\'Four Days in October.\\' I didn\\'t want to see it again.\"\\n* None\\n* Everyone Loves Ohtani: The Angels\\' two-way star was a unanimous pick for A.L. M.V.P. and his superfans redefine devotion.\\n* Phillie Phavorite: Bryce Harper truly committed to Philadelphia and now he\\'s back on top of baseball, winning the N.L. M.V.P.\\n* Cy Young Winners: Milwaukee\\'s Corbin Burnes and Toronto\\'s Robbie Ray had hit rock bottom before they worked their way up to stardom.\\n* Baseball Is Stuck in Neutral: The potential of a lockout has a star-studded group of free agents waiting for the dust to settle.\\n* Free-Agency Tracker: Get the latest updates on signings, contract extensions and trades. Cash was referring to a documentary about Boston\\'s famous comeback; several Astros said they had watched it for inspiration as they attempted to match the feat. But Houston fell one win short, and Cash\\'s discipline with Morton was a big reason. Morton, who won Game 7s in the A.L.C.S. and the World Series for Houston in 2017, retired 16 of his first 17 hitters on Saturday and took a 3-0 lead into the sixth inning behind homers by Randy Arozarena and Mike Zunino. Morton was extremely efficient; after a walk and a two-out infield single in the sixth, he had thrown just 66 pitches, about two-thirds of a traditional starter\\'s workload.\\n\\n\"It was pretty simple: third time through, we value that, we value our process,\" Cash said. \"Michael Brantley\\'s as talented a hitter as anybody in baseball, and if you give him too many looks, he\\'s going to get you. The leverage at that point might not have been any higher in the game.\" Anderson gave him a better matchup, Cash insisted, and the crux of the Rays\\' approach is to tilt as many matchups as possible in their favor. The Rays try to limit the number of times opposing hitters face their pitchers, and batters hit .381 this season when facing Morton for the third time in a game. At that moment, Cash said, he could not abandon the script -- even if the instinct of most viewers, including the one with the best angle of all, screamed otherwise. \"I want to say yes,\" said Zunino, the catcher, when asked if he was surprised to see Morton leave. \"But Cash pulls all the right moves. This was the best I\\'ve seen Charlie in the time I\\'ve been able to catch him in the past two years. He had everything working.\" On the TBS broadcast, the play-by-play announcer Brian Anderson said that \"all of Twitter is ablaze\" as the screen showed a tweet from the Phillies\\' Andrew McCutchen, a former teammate of Morton\\'s with Pittsburgh. McCutchen wrote he would have left Morton in, and the analyst Jeff Francoeur said he agreed.\\n\\nVindication came quickly for Cash when Brantley rolled the second pitch, a 97 mile-an-hour fastball, to second base for a groundout, keeping the shutout intact. When Brantley came up again in the eighth, Cash dutifully summoned a new pitcher, Pete Fairbanks, a hulking young right-hander who throws even harder than Anderson. Fairbanks allowed two runs when Correa grounded a single to right against an overshifted infield. But he locked down the pennant in the ninth when Aledmys Diaz, the potential tying run, flied out to Manuel Margot in right. It was Morton\\'s second victory of the A.L.C.S., and while he fired 10 2/3  shutout innings in the series, the Most Valuable Player Award went to Arozarena, a breakout October star. Arozarena hit .321 in the A.L.C.S. -- the rest of the Rays batted .183 -- and smashed four home runs. He now has seven this postseason, a rookie record. \"We\\'ve been facing some great pitchers and some great teams,\" Arozarena said through an interpreter. \"But the ball\\'s looking good. The ball\\'s looking real nice to me.\" His two-run homer in the first inning, off Lance McCullers Jr., erased any momentum the Astros had earned with their three wins while facing elimination. But Morton had a sense his team would be fine. \"After last night, it\\'s like -- you give away a 3-0 lead, and I came to the park today and everybody\\'s just good to go, squared away, high energy in the first inning,\" he said. \"They\\'re out there just hungry for the win.\" It took longer than they had hoped, but the Rays got that win on Saturday, and they did it their way.', 'abstract': \"Guided by the club's strict principles, Manager Kevin Cash pulled his pitcher at a crucial point in Game 7 and was rewarded with a victory over the Houston Astros.\", 'article_id': '3da821ea-b93b-5a09-99d7-45e1711b73f0', 'image': 'https://static01.nyt.com/images/2020/10/19/sports/17kepner-alcs-print/17kepner-alcs-sub-facebookJumbo.jpg?year=2020&h=550&w=1050&s=bc949a95413e755caaf5b16631534bd4dfb7d275a1eb2241e69799501299c4ec&k=ZQJBKqZ0VN', 'caption': 'The Rays celebrated after the final out of their Game 7 win.', 'image_id': '3da821ea-b93b-5a09-99d7-45e1711b73f0'}\n",
            "Article 4: {'section': 'Art & Design', 'headline': 'For Robert Rauschenberg, No Artist Is an Island', 'article_url': 'https://www.nytimes.com/2017/05/11/arts/design/for-robert-rauschenberg-no-artist-is-an-island.html', 'article': 'We tend to think of artists as natural loners, off in their studios, wrestling with their inner selves. But \"Robert Rauschenberg: Among Friends,\" which opens at the Museum of Modern Art on May 21, points us in a different direction. It situates Rauschenberg\\'s work amid that of two dozen fellow artists who provided an audience for one another in New York City in the \\'50s and \\'60s, the years of bohemia\\'s final flourish. Not that exchanges between artists are ever simple. Rauschenberg\\'s \"Bed,\" for instance, is a landmark painting from 1955 that stands about six feet tall, with a stapled-on pillow, a cotton sheet splotched with red and yellow, and rivulets of white pigment dripping onto a patchwork quilt. Like any true masterpiece, \"Bed\" can support multiple readings. You can see it, for starters, as a brilliant sendup of the overt emotionalism of Abstract Expressionism and say that it puts \\'50s-style paint-slinging to bed.\\n\\nIn his defense, Rauschenberg, who died in 2008, at 82, could have cited Picasso\\'s oft-quoted remark about how \"good artists copy, great artists steal.\" Granted, Picasso was referring to the theft of ideas, as opposed to actual objects. But for Rauschenberg, objects were the idea. It was a wholly optimistic belief. He delighted in the scruffy plenitude of the world, and he wanted to stretch the boundaries of painting to make room for things besides canvas and oil paint. His combines, as he called them, came to include crumpled newspapers and neckties and even a taxidermied goat. He did not invent assemblage, but he endowed it with scale, supersized it. Rauschenberg was charismatic and engaging. He saw himself as a work in progress (self-assembly required), and even his name was subject to revision. His parents named him Milton Ernest Rauschenberg. When he declared himself an artist, he changed his name to Bob. After people assumed, reasonably, that his name was actually Robert, he changed it to that.\\n\\nThe MoMA exhibition, \"Among Friends,\" has been conceived by the curator Leah Dickerman as an \"open monograph,\" to borrow her revelatory phrase. It presents Rauschenberg as an essential connector not only among artists but also between the art world as a whole and the neighboring worlds of avant-garde dance and performance. His collaborations were frequent. They ranged from one-time improvisations -- such as his black-streaked \"Automobile Tire Print,\" which he made by having the musician John Cage drive his car over 20 sheets of paper in the street -- to a decade of sustained creativity as the resident designer of the Merce Cunningham Dance Company. In art-history textbooks, Rauschenberg is invariably paired with Jasper Johns as a historic figure who \"ushered in the Pop art era.\" But today that description seems dated and inadequate. Their work has none of Pop\\'s screaming irony, none of its poster-like graphic speed. Johns, who turns 87 this month, forever changed the way we think about process, building up the surfaces of his paintings with slow, sensuous, wax-laden marks that seem to fold the flow of his time into his imagery. His achievement was to imbue American art with a seriousness, a philosophical largeness, that had previously belonged to European culture. Rauschenberg, by contrast, was interested in flouting rules and establishing freedoms, in making the art world a more open place.\\n\\nRauschenberg\\'s ethos of inclusiveness was probably rooted as much in his belief in social equality as in the hardships of his childhood. Born in 1925, he grew up during the Depression years in Port Arthur, Tex., an oil-refining town in the swampy southeastern part of the state. Not enough has been said about his dyslexia, which remained undiagnosed in his childhood. He later recalled that he harbored deep shame over his inability to keep up at school. He couldn\\'t read, he said, because the letter \"r\" kept jumping off the page. He generally printed in capital letters, and his spelling was inventive. In a 1954 costume drawing for the Cunningham dance \"Minutiae,\" Rauschenberg refers to \"tourqoise\" and \"torqoise,\" to \"fushia\" and \"fuchsia.\" \"He told me so many times that he thought he was dumb when he was young,\" recalled his sister, Janet Begneaud, when we met in March in Lafayette, La., where the family eventually settled. Instead of poring over books, Rauschenberg had his own style of learning. He could imagine a sentence as a series of pictures, and cutout photographs from magazines proliferated on the walls of his boyhood bedroom. He became an attentive listener who picked up information from everyone he met. During World War II, he served in the Navy as a psychiatric nurse.\\n\\nEven so, having grown up amid the intolerance of the South, he learned to avoid certain topics at home. One of them was his homosexuality. \"I doubt Mother knew that it existed in the world,\" Ms. Begneaud said. \"I guarantee she had no idea.\" His parents were Christian fundamentalists who went to church two times every Sunday. Rauschenberg had ample opportunity to hear about the torments of hell, which piqued his imagination. In 1958, in an application for a Guggenheim grant, he proposed that he illustrate Dante\\'s \"Inferno\" in 34 drawings, one for each canto. He was passed over for the grant, but he did complete the series of drawings, as the MoMA show will attest. They\\'re among his best works, combining freely sketched passages with images from newspapers and magazines; they translate a 14th-century epic into a language of his own devising. The \"Inferno\" drawings represent, among other things, a triumph over Rauschenberg\\'s dyslexia, signaling his love of literature. \"I had a book of Botticelli\\'s wonderful illustrations of the \\'Inferno,\\'\" Mr. Johns noted recently, referring to the years when he lived a flight below Rauschenberg in a loft building on Front Street. \"I believe that Bob\\'s looking at that triggered his own.\" Does Dante count as one of Rauschenberg\\'s collaborators? Probably more than Charles Atlas, a video artist prized for his work with choreographers. Now 68, Mr. Atlas is still lanky and boyish, with sideburns that are dyed psychedelic orange. \"Someone had the good idea to hire me,\" he said with a chuckle when we met recently at MoMA. \"It\\'s the first time they have hired an artist to do anything like this.\" Mr. Atlas is designing the video portion of the show, including a nine-channel installation to commemorate \"9 Evenings,\" a series of quixotic performances that Rauschenberg spearheaded in 1966 with his engineer-friend Billy Kluver, in the hope of forming a brave new alliance between art and technology. \"Bob was so out there,\" recalled Susan Weil, a native Manhattanite who met him in Paris as an art student at the Academie Julian in the summer after she finished high school. He was 22 and studying on the G.I. Bill. In the fall, he followed her to Black Mountain College. They married in 1950 and moved to West 95th Street, into a cramped studio apartment. The MoMA show will open with their collaborations -- namely, the so-called \"blueprints,\" life-size photograms in which their bodies appear as white silhouettes bathed against a Prussian blue background.', 'abstract': \"A writer travels from Brooklyn to Lafayette, La., in search of an artist's roots, upon the opening of an exhibition of at the Museum of Modern Art.\", 'article_id': 'becf4474-d1fa-5722-b829-251530aa942b', 'image': 'https://static01.nyt.com/images/2017/05/14/arts/14RAUSCHENBERG1/14RAUSCHENBERG1-facebookJumbo-v2.jpg?year=2017&h=550&w=1050&s=3c0778eeda10612985706d457b37c2fb084dde7d4ef6dc46e43c2eeaeeccdae8&k=ZQJBKqZ0VN', 'caption': 'Robert Rauschenberg performing in \"Pelican\" in 1965.', 'image_id': 'becf4474-d1fa-5722-b829-251530aa942b'}\n",
            "Article 5: {'section': 'Theater', 'headline': \"Jimmy Buffett's 'Margaritaville' Musical Sets Broadway Opening\", 'article_url': 'https://www.nytimes.com/2017/06/05/theater/jimmy-buffett-margaritaville-musical-broadway.html', 'article': 'Jimmy Buffett\\'s tropical paradise will land in a chilly New York this winter with the opening of the musical \"Escape to Margaritaville\" on Broadway.\\n\\nThe show, which features new songs as well as past hits that embody Mr. Buffett\\'s beach-resort brand, is to begin preview performances at the Marquis Theater on Feb. 16, the producers announced on Monday, with opening night planned for March 15.\\n\\n\"Well, going to Broadway is a dream come true, but to be coming to the Marquis is like having a great margarita with a tequila floater,\" Mr. Buffett said in a statement.', 'abstract': '\"Escape to Margaritaville,\" which features new songs and past hits by Mr. Buffett, will begin performances at the Marquis Theater in February.', 'article_id': '9511a127-e616-5bf5-80c6-553da4010c19', 'image': 'https://static01.nyt.com/images/2017/06/06/arts/06margaritaville-item/06margaritaville-item-facebookJumbo.jpg?year=2017&h=550&w=1050&s=7379271db16cb1b9130d8477a8de7547d895a27a838cedaf59d17c3e14a8c9f6&k=ZQJBKqZ0VN', 'caption': 'Jimmy Buffett, performing in 2016. His musical, \"Escape to Margaritaville,\" is to begin performances on Broadway in February.', 'image_id': '9511a127-e616-5bf5-80c6-553da4010c19'}\n",
            "<class 'list'>\n"
          ]
        }
      ],
      "source": [
        "# Define the path to the JSON file\n",
        "json_file_path = '/content/drive/MyDrive/nytimes_train.json'\n",
        "\n",
        "# Read the JSON file\n",
        "with open(json_file_path, 'r') as file:\n",
        "    data = json.load(file)\n",
        "#  first few article samples\n",
        "num_samples_to_print = 5\n",
        "for i, article in enumerate(data[:num_samples_to_print]):\n",
        "    print(f\"Article {i+1}: {article}\")\n",
        "\n",
        "\n",
        "len(data)\n",
        "print(type(data))"
      ]
    },
    {
      "cell_type": "code",
      "source": [
        "data[1]['article']"
      ],
      "metadata": {
        "colab": {
          "base_uri": "https://localhost:8080/",
          "height": 122
        },
        "id": "eYjmA_fRMzPd",
        "outputId": "fce02402-5a34-4817-ed50-297b196c6cc7"
      },
      "execution_count": null,
      "outputs": [
        {
          "output_type": "execute_result",
          "data": {
            "text/plain": [
              "'CRIP CAMP: A DISABILITY REVOLUTION (2020) Stream on Netflix. This documentary, the latest offering from Barack Obama and Michelle Obama\\'s production company, draws a direct line between a Catskills summer camp and the American disability rights movement of the 1970s. Directed by Jim LeBrecht and Nicole Newnham, the film begins by focusing on Camp Jened, which was founded in the early 1950s and served as a community for campers with disabilities. But it eventually shifts focus to look at the adult lives of some of the camp\\'s alumni, several of whom became prominent activists. In his review for The New York Times, Ben Kenigsberg wrote that the film \"unfolds from a perspective of lived experience.\" Newnham and LeBrecht, he added, \"deftly juggle a large cast of characters past and present, accomplishing the not-so-easy task of making all the personalities distinct.\"\\n\\nDARK PHOENIX (2019) 9 p.m. on HBO. In an interview with The Times last year, the actress Sophie Turner discussed the moment when Simon Kinberg, the writer and director of \"Dark Phoenix,\" made clear how much the movie would rely on Turner\\'s performance. \"I just [expletive] my pants right there and then,\" Turner said. But she made it through. This most recent \"X-Men\" movie casts Turner, a star best known for \"Game of Thrones,\" as Jean Grey, a young mutant whose abnormally potent powers threaten to get the better of her. Michael Fassbender and James McAvoy reprise their roles as Magneto and Professor X, alongside Jessica Chastain as an alien modeled partly on Tilda Swinton. For the most part, Manohla Dargis wrote in her review for The Times, Kinberg \"just moves characters from point A to B, pausing for face-to-face heart to hearts before the next blowout.\" But, she added, \"the mayhem is generally coherent and executed with clean, crisp special effects, even if Kinberg settles for slo-mo cliches.\"\\n\\nBLACKHAT (2015) 5:20 p.m. on FXM. Cybercrime has incendiary results in \"Blackhat,\" a thriller directed by Michael Mann. The story begins with an explosion at a Hong Kong nuclear facility. Enter Chris Hemsworth and Tang Wei, who play unlikely heroes tasked with tracking down the mysterious hacker responsible for the attack. The result is \"by turns brutal and sentimental, lovely and lurid, as serious as the grave and blissfully preposterous,\" Manohla Dargis wrote in her review for The Times. She called the film \"a spectacular work of unhinged moviemaking.\"\\n\\nEARTH\\'S SACRED WONDERS 10 p.m. on PBS (check local listings). A team of gardeners takes on a dangerous plant-trimming job on the towers of Angkor Wat, the sprawling Cambodian temple complex, in the first episode of this new series. The show profiles people who have been drawn to religious landmarks around the world. Also featured in the first episode: A paramedic in Jerusalem who helps those who are fasting in during Ramadan, and a monk-in-training at the Shaolin Temple in China.'"
            ],
            "application/vnd.google.colaboratory.intrinsic+json": {
              "type": "string"
            }
          },
          "metadata": {},
          "execution_count": 5
        }
      ]
    },
    {
      "cell_type": "markdown",
      "source": [
        "# 1. Data Processing:"
      ],
      "metadata": {
        "id": "W2Q9Pdi1C2Ir"
      }
    },
    {
      "cell_type": "markdown",
      "source": [
        "--------------------------------------------------------------------------------------------------------"
      ],
      "metadata": {
        "id": "MQbl5lxYen9i"
      }
    },
    {
      "cell_type": "code",
      "source": [
        "# Extracting article bodies from your dataset\n",
        "articles = [article['article'] for article in data]\n",
        "abstracts = [article['abstract']for article in data]"
      ],
      "metadata": {
        "id": "TF52AYOYerim"
      },
      "execution_count": null,
      "outputs": []
    },
    {
      "cell_type": "code",
      "source": [
        "#ensure the each abstract and article body with the same size .this ensures that all articles have abstracts\n",
        "len(articles),len(abstracts)"
      ],
      "metadata": {
        "colab": {
          "base_uri": "https://localhost:8080/"
        },
        "id": "UIZlaN_ue5c0",
        "outputId": "96f8009b-553d-4d69-c7ce-fbdc9f38a8a0"
      },
      "execution_count": null,
      "outputs": [
        {
          "output_type": "execute_result",
          "data": {
            "text/plain": [
              "(48988, 48988)"
            ]
          },
          "metadata": {},
          "execution_count": 7
        }
      ]
    },
    {
      "cell_type": "code",
      "source": [
        "# Tokenize the text data\n",
        "tokenizer = Tokenizer()\n",
        "tokenizer.fit_on_texts(articles + abstracts)\n",
        "\n",
        "# Convert text sequences to integer sequences\n",
        "articles_seqs = tokenizer.texts_to_sequences(articles)\n",
        "Abstracts_seqs = tokenizer.texts_to_sequences(abstracts)\n",
        "\n",
        "# Pad sequences to ensure uniform length for both abstracts and articles\n",
        "articles_seqs_padded = pad_sequences(articles_seqs, maxlen=15000, padding='post', truncating='post')\n",
        "Abstracts_seqs_padded = pad_sequences(Abstracts_seqs, maxlen=250, padding='post', truncating='post')"
      ],
      "metadata": {
        "id": "IE--5bCBfCy2"
      },
      "execution_count": null,
      "outputs": []
    },
    {
      "cell_type": "markdown",
      "source": [
        "for model architecture i followed the architecture of Seq2Seq with Attention,this architecture consists of an encoder-decoder framework, encoder processes the input sequence (article body), and the decoder generates the output sequence (abstract). The attention mechanism helps the decoder focus on relevant parts of the input sequence during generation."
      ],
      "metadata": {
        "id": "-9dGPxI4Wo-y"
      }
    },
    {
      "cell_type": "markdown",
      "source": [
        "# 2. Model Architecture"
      ],
      "metadata": {
        "id": "g0Mu6dbRdpHT"
      }
    },
    {
      "cell_type": "code",
      "source": [
        "from tensorflow.keras.models import Model\n",
        "from tensorflow.keras.layers import Input, Embedding, LSTM, Dense, Attention\n",
        "\n",
        "# Define the model architecture\n",
        "embedding_dim = 100\n",
        "vocab_size = len(tokenizer.word_index) + 1\n",
        "max_len=200\n",
        "# Encoder\n",
        "encoder_inputs = Input(shape=(max_len,))\n",
        "encoder_embedding = Embedding(vocab_size, embedding_dim, mask_zero=True)(encoder_inputs)\n",
        "encoder_lstm = LSTM(units=256, return_sequences=True, return_state=True)\n",
        "encoder_outputs, state_h, state_c = encoder_lstm(encoder_embedding)\n",
        "encoder_states = [state_h, state_c]\n",
        "\n",
        "# Decoder\n",
        "decoder_inputs = Input(shape=(max_len,))\n",
        "decoder_embedding = Embedding(vocab_size, embedding_dim, mask_zero=True)(decoder_inputs)\n",
        "decoder_lstm = LSTM(units=256, return_sequences=True, return_state=True)\n",
        "decoder_outputs, _, _ = decoder_lstm(decoder_embedding, initial_state=encoder_states)\n",
        "attention_layer = Attention()\n",
        "attention_out = attention_layer([decoder_outputs, encoder_outputs])\n",
        "decoder_concat_input = tf.concat([decoder_outputs, attention_out], axis=-1)\n",
        "decoder_dense = Dense(vocab_size, activation='softmax')\n",
        "decoder_outputs = decoder_dense(decoder_concat_input)\n",
        "\n",
        "# Define the model\n",
        "model = Model([encoder_inputs, decoder_inputs], decoder_outputs)\n"
      ],
      "metadata": {
        "id": "ocgX62pPmV0_"
      },
      "execution_count": null,
      "outputs": []
    },
    {
      "cell_type": "markdown",
      "source": [
        "# 3. Compile Optimization and loss function\n"
      ],
      "metadata": {
        "id": "u0Bz9mqadyvs"
      }
    },
    {
      "cell_type": "code",
      "source": [
        "\n",
        "# Compile the model\n",
        "model.compile(optimizer='adam', loss='sparse_categorical_crossentropy')\n"
      ],
      "metadata": {
        "id": "JlXPYbNWeBLL"
      },
      "execution_count": null,
      "outputs": []
    },
    {
      "cell_type": "markdown",
      "source": [
        "# 4. Model Training"
      ],
      "metadata": {
        "id": "xGBMCuRWeIm_"
      }
    },
    {
      "cell_type": "code",
      "source": [
        "\n",
        "# Define training parameters\n",
        "batch_size = 32\n",
        "epochs = 10\n",
        "\n",
        "# Training loop\n",
        "for epoch in range(epochs):\n",
        "    print(f'Epoch {epoch + 1}/{epochs}')\n",
        "\n",
        "    # Shuffle the data\n",
        "    indices = np.random.permutation(len(articles_seqs_padded))\n",
        "    encoder_input_data = articles_seqs_padded[indices]\n",
        "    decoder_input_data = Abstracts_seqs_padded[indices]\n",
        "    decoder_target_data = np.roll(decoder_input_data, -1, axis=1)\n",
        "\n",
        "    # Iterate over batches\n",
        "    for i in range(0, len(encoder_input_data), batch_size):\n",
        "        encoder_input_batch = encoder_input_data[i:i+batch_size]\n",
        "        decoder_input_batch = decoder_input_data[i:i+batch_size]\n",
        "        decoder_target_batch = decoder_target_data[i:i+batch_size]\n",
        "\n",
        "        # Ensure correct input shape\n",
        "        encoder_input_batch = encoder_input_batch[:, :200]  # Trim or pad the input to match the expected shape\n",
        "        decoder_input_batch = decoder_input_batch[:, :200]  # Trim or pad the input to match the expected shape\n",
        "        decoder_target_batch = decoder_target_batch[:, :200]  # Trim or pad the target to match the expected shape\n",
        "\n",
        "        # Train the model on a batch of data\n",
        "        model.train_on_batch([encoder_input_batch, decoder_input_batch], decoder_target_batch)\n",
        "\n",
        "# Evaluate the model\n",
        "loss = model.evaluate([encoder_input_data[:, :200], decoder_input_data[:, :200]], decoder_target_data[:, :200], verbose=0)\n",
        "print(f' - Loss: {loss}')\n",
        "\n",
        "\n"
      ],
      "metadata": {
        "colab": {
          "base_uri": "https://localhost:8080/"
        },
        "id": "TrWFmPTinY7p",
        "outputId": "35edc0fd-2caa-4206-b2c2-fde69c4f7add"
      },
      "execution_count": null,
      "outputs": [
        {
          "output_type": "stream",
          "name": "stdout",
          "text": [
            "Epoch 1/10\n"
          ]
        }
      ]
    },
    {
      "cell_type": "markdown",
      "source": [
        "# Conclusion:"
      ],
      "metadata": {
        "id": "4fxfGmQVSTlx"
      }
    },
    {
      "cell_type": "markdown",
      "source": [
        "Due to the high computation, my laptob could not complete the task till the end as it stopped on training stage, runtime took more that 1 hour and then crashed, without training stepm it is difficult to go further to finish the whole approach.\n",
        "\n",
        "the next steps should be:\n",
        "  ### <small>5.Validation stage.</small>\n",
        "* A separate validation dataset will be used to evaluate the model's performance during training.\n",
        "* After each epoch, the model's performance on the validation dataset will be assessed using the evaluate method to compute the loss.\n",
        "\n",
        "\n",
        " ### <small>6.Adjustments and Tuning:.</small>\n",
        " * batch size, sequence length, and the number of epochs will be adjusted\n",
        " * Hyperparameter tuning and experimentation until get the optimal model\n",
        "\n",
        "   ### <small>7.Evaluation stage.</small>\n",
        "* try the model on the new dataset (test set)"
      ],
      "metadata": {
        "id": "BiTIyiqhSwFi"
      }
    }
  ]
}